{
  "nbformat": 4,
  "nbformat_minor": 0,
  "metadata": {
    "colab": {
      "provenance": [],
      "authorship_tag": "ABX9TyPzBwhabVLc1jTPRfVY2nlb",
      "include_colab_link": true
    },
    "kernelspec": {
      "name": "python3",
      "display_name": "Python 3"
    },
    "language_info": {
      "name": "python"
    }
  },
  "cells": [
    {
      "cell_type": "markdown",
      "metadata": {
        "id": "view-in-github",
        "colab_type": "text"
      },
      "source": [
        "<a href=\"https://colab.research.google.com/github/marianmykola/marian/blob/master/Untitled0.ipynb\" target=\"_parent\"><img src=\"https://colab.research.google.com/assets/colab-badge.svg\" alt=\"Open In Colab\"/></a>"
      ]
    },
    {
      "cell_type": "code",
      "execution_count": 22,
      "metadata": {
        "colab": {
          "base_uri": "https://localhost:8080/",
          "height": 105
        },
        "id": "-VaedpYrOlwf",
        "outputId": "178c4349-d559-4a7e-948e-03c25b72839c"
      },
      "outputs": [
        {
          "output_type": "stream",
          "name": "stdout",
          "text": [
            "['  32']\n",
            "['  32', '3801']\n",
            "['  32', '3801', '  45']\n",
            "['  32', '3801', '  45', ' 123']\n"
          ]
        },
        {
          "output_type": "execute_result",
          "data": {
            "text/plain": [
              "'OK'"
            ],
            "application/vnd.google.colaboratory.intrinsic+json": {
              "type": "string"
            }
          },
          "metadata": {},
          "execution_count": 22
        }
      ],
      "source": [
        "\n",
        "def arithmetic_arranger(problems):\n",
        "  if len(problems) > 5:\n",
        "    return 'Error: too many problems'\n",
        "  a_p = {\"top\" : [], \"bot\" : [], \"line\" : [], \"result\" : []}\n",
        "  for problem in problems:\n",
        "    operand = problem.split()\n",
        "    num1, operator, num2 = operand\n",
        "    line1 = num1.rjust(4)\n",
        "    a_p[\"top\"].append(line1)\n",
        "\n",
        "    print(a_p[\"top\"])\n",
        "    #print(operator)\n",
        "    #print(num2)\n",
        "\n",
        "\n",
        "\n",
        "  return \"OK\"\n",
        "\n",
        "arithmetic_arranger([\"32 + 698\", \"3801 - 2\", \"45 + 43\", \"123 + 49\"])"
      ]
    },
    {
      "cell_type": "markdown",
      "source": [],
      "metadata": {
        "id": "CB0rpc95Ook8"
      }
    }
  ]
}