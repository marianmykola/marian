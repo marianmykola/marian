{
  "nbformat": 4,
  "nbformat_minor": 0,
  "metadata": {
    "colab": {
      "provenance": [],
      "authorship_tag": "ABX9TyME84F8noxOfu0mXd5o/ips",
      "include_colab_link": true
    },
    "kernelspec": {
      "name": "python3",
      "display_name": "Python 3"
    },
    "language_info": {
      "name": "python"
    }
  },
  "cells": [
    {
      "cell_type": "markdown",
      "metadata": {
        "id": "view-in-github",
        "colab_type": "text"
      },
      "source": [
        "<a href=\"https://colab.research.google.com/github/marianmykola/marian/blob/master/Ariphmetic.ipynb\" target=\"_parent\"><img src=\"https://colab.research.google.com/assets/colab-badge.svg\" alt=\"Open In Colab\"/></a>"
      ]
    },
    {
      "cell_type": "code",
      "execution_count": 121,
      "metadata": {
        "colab": {
          "base_uri": "https://localhost:8080/"
        },
        "id": "-VaedpYrOlwf",
        "outputId": "c74347a2-5011-4880-9e0f-039a2c381374"
      },
      "outputs": [
        {
          "output_type": "stream",
          "name": "stdout",
          "text": [
            "   32      3801      45       123    \n",
            "+ 698    -    2    + 43    - 1149    \n",
            "-----    ------    ----    ------    \n",
            "  730      3799      88     -1026    \n"
          ]
        }
      ],
      "source": [
        "from pickle import TRUE\n",
        "\n",
        "def arithmetic_arranger(problems, status=False):\n",
        "  if len(problems) > 5:\n",
        "    return 'Error: too many problems'\n",
        "  a_p = {\"top\" : [], \"bot\" : [], \"line\" : [], \"res\" : []}\n",
        "\n",
        "  for problem in problems:\n",
        "    operand = problem.split()\n",
        "    num1, operator, num2 = operand\n",
        "    if operator not in (\"+\", \"-\"):\n",
        "      return \"Error: Operator must be '+' or '-'.\"\n",
        "    if not num1.isdigit or not num2.isdigit:\n",
        "      return \"Error: Numbers only contain digits.\"\n",
        "    if len(num1)>4 or len(num2)>4:\n",
        "      return \"Error: Numbers cannot be more than four digits.\"\n",
        "\n",
        "    if operator == \"+\":\n",
        "      res = int(num1) + int(num2)\n",
        "    else:\n",
        "      res = int(num1) - int(num2)\n",
        "\n",
        "    maxl = max(len(num1), len(num2))\n",
        "    line1 = num1.rjust(maxl+2)+\"    \"\n",
        "    line2 = operator + num2.rjust(maxl+1)+\"    \"\n",
        "    line3 = \"-\" * (maxl+2) + \"    \"\n",
        "    line4 = str(res).rjust(maxl+2) + \"    \"\n",
        "\n",
        "\n",
        "    a_p[\"top\"].append(line1)\n",
        "    a_p[\"bot\"].append(line2)\n",
        "    a_p[\"line\"].append(line3)\n",
        "    a_p[\"res\"].append(line4)\n",
        "\n",
        "    ap1 = \"\".join(a_p[\"top\"])\n",
        "    ap2 = \"\".join(a_p[\"bot\"])\n",
        "    ap3 = \"\".join(a_p[\"line\"])\n",
        "    ap4 = \"\".join(a_p[\"res\"])\n",
        "\n",
        "\n",
        "\n",
        "  print(ap1)\n",
        "  print(ap2)\n",
        "  print(ap3)\n",
        "  if status == True:\n",
        "    print(ap4)\n",
        "\n",
        "  return\n",
        "problems = [\"32 + 698\", \"3801 - 2\", \"45 + 43\", \"123 - 1149\"]\n",
        "arithmetic_arranger(problems, True)"
      ]
    },
    {
      "cell_type": "markdown",
      "source": [],
      "metadata": {
        "id": "CB0rpc95Ook8"
      }
    }
  ]
}